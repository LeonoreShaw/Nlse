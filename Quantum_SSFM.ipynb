{
  "nbformat": 4,
  "nbformat_minor": 0,
  "metadata": {
    "colab": {
      "private_outputs": true,
      "provenance": [],
      "authorship_tag": "ABX9TyMaO+q9497uDnJEfQTjHGYX",
      "include_colab_link": true
    },
    "kernelspec": {
      "name": "python3",
      "display_name": "Python 3"
    },
    "language_info": {
      "name": "python"
    }
  },
  "cells": [
    {
      "cell_type": "markdown",
      "metadata": {
        "id": "view-in-github",
        "colab_type": "text"
      },
      "source": [
        "<a href=\"https://colab.research.google.com/github/OleKrarup123/NLSE-vector-solver/blob/main/Quantum_SSFM.ipynb\" target=\"_parent\"><img src=\"https://colab.research.google.com/assets/colab-badge.svg\" alt=\"Open In Colab\"/></a>"
      ]
    },
    {
      "cell_type": "markdown",
      "source": [
        "## About this notebook\n",
        "\n",
        "This notebook attempts to solve the Schrodinger Equation using the Split-Step Fourier method with the intention of modelling the temporal evolution of a 1D quantum mechanical system.\n",
        "\n",
        "A similar approach was used elsewhere to model the propagation of pulses subject to attenuation, dispersion and nonlinear effects in an optical fiber:\n",
        "\n",
        "https://github.com/OleKrarup123/NLSE-vector-solver\n",
        "\n",
        "https://colab.research.google.com/drive/1XyLYqrohf5GL6iFSrS6VlHoj_eSm-kAG#scrollTo=K42UGCF-Wrt4\n",
        "\n",
        "Additional information about the SSFM can be found [here](https://www.researchgate.net/publication/281441538_An_introduction_to_the_Split_Step_Fourier_Method_using_MATLAB). Th\n"
      ],
      "metadata": {
        "id": "xxhcrABnO0MJ"
      }
    },
    {
      "cell_type": "markdown",
      "source": [
        "First, we define the Schrodinger Equation, where $ψ(x,t)$ is abbreviated with $ψ$:\n",
        "\n",
        "$$i\\hbar \\partial_tψ =  \\frac{-\\hbar^2}{2m}  \\partial^2_x\\psi +V(x,t)ψ$$\n",
        "$$ $$ \n",
        "$$ \\partial_tψ =  \\frac{i\\hbar}{2m}  \\partial^2_x\\psi - \\frac{i}{\\hbar}V(x,t)ψ$$\n",
        "\n",
        "Set $V(x,t)=\\hbar\\omega_0 U(x,t)$, where $\\hbar\\omega_0$ is some characteristic energy of the potential \n",
        "$$ $$ \n",
        "$$ \\partial_tψ =  i\\frac{\\hbar}{2m}  \\partial^2_x\\psi - i\\omega_0 U(x,t)ψ.$$\n",
        "Now define $\\tau = t\\omega_0$ (causing $\\tau$ to be in units of \"radians\"), so \n",
        "$$ \\omega_0 \\partial_\\tauψ =  i\\frac{\\hbar}{2m}  \\partial^2_x\\psi - i\\omega_0 U(x,t)ψ. $$\n",
        "$$ $$\n",
        "$$  \\partial_\\tauψ =  i\\frac{\\hbar}{2m\\omega_0}  \\partial^2_x\\psi - i U(x,t)ψ. $$\n",
        "$$ $$\n",
        "\n",
        "Define $s=\\frac{x}{\\sqrt{\\frac{\\hbar}{2m\\omega_0}}}$, so\n",
        "$$  \\partial_\\tauψ =  i \\partial^2_s\\psi - i U(x,t)ψ. \\quad (1) $$ \n",
        "$$ $$\n",
        "It is equation (1) that we wish to solve using the split step method\n"
      ],
      "metadata": {
        "id": "TQF-VONeOe7j"
      }
    },
    {
      "cell_type": "markdown",
      "source": [
        "##Import useful libraries"
      ],
      "metadata": {
        "id": "OzMCE6LoOMo3"
      }
    },
    {
      "cell_type": "code",
      "execution_count": null,
      "metadata": {
        "id": "pqjDsww0OEdE"
      },
      "outputs": [],
      "source": [
        "import numpy as np\n",
        "from scipy.fftpack import fft, ifft, fftshift, ifftshift, fftfreq\n",
        "\n",
        "import matplotlib.pyplot as plt\n",
        "from matplotlib import cm\n",
        "\n",
        "global pi; pi=np.pi "
      ]
    },
    {
      "cell_type": "markdown",
      "source": [
        "#Define constants and simulation parameters"
      ],
      "metadata": {
        "id": "3Tylieo7OTeq"
      }
    },
    {
      "cell_type": "code",
      "source": [
        "global hbar; hbar = 6.62607015e-34                                # Planck's reduced constant in J*s/rad\n",
        "global h; h=hbar/2/pi                                             # Planck's constant in J*s\n",
        "global mH; mH=1.6735e-27                                          # Hydrogen mass in kg\n",
        "global c; c=3e8                                                   # Speed of light m/s\n",
        "global joule_to_ev; joule_to_ev = 6.2415e18                       # Conversion from J to eV\n",
        "global kelvin_to_joule; kelvin_to_joule = 1.380648780669e-29      # kelvin to joule\n",
        "global kelvin_to_ev ; kelvin_to_ev = kelvin_to_joule*joule_to_ev  #  \n"
      ],
      "metadata": {
        "id": "GrxDrS1-j-_S"
      },
      "execution_count": null,
      "outputs": []
    },
    {
      "cell_type": "code",
      "source": [
        "N  = 2**15 #Number of points the x-axis will be divided into\n",
        "print(N)\n",
        "\n",
        "\n"
      ],
      "metadata": {
        "id": "F2eflxxCORtM"
      },
      "execution_count": null,
      "outputs": []
    },
    {
      "cell_type": "code",
      "source": [
        "def getMomentumFromPos(pos):\n",
        "    return fftshift(fftfreq(len(pos), d=pos[1]-pos[0]))*h\n",
        "\n",
        "def getPosFromMomentum(momentum):  \n",
        "    return fftshift(fftfreq(len(momentum), d=momentum[1]-momentum[0]))*h    "
      ],
      "metadata": {
        "id": "IBH1EZ9zh92t"
      },
      "execution_count": null,
      "outputs": []
    },
    {
      "cell_type": "code",
      "source": [
        "#Define a harmonic (x**2) potential from particle mass and width of classical turning range\n",
        "def harmonicPotential(x,m,width):\n",
        "\n",
        "  #Define characteristic oscillation frequency from particle mass and classical turning range\n",
        "  omega=2*hbar/(m*(width/2)**2)\n",
        "\n",
        "  #Define characteristic distance, momentum and energy for harmonic potential\n",
        "  x_char=np.sqrt(hbar/(2*m*omega)) #Note: x_char = width/4\n",
        "  p_char=np.sqrt(m*omega*hbar/2)\n",
        "  E_char=hbar*omega\n",
        "  \n",
        "\n",
        "  return 0.5*m*omega**2*(x/x_char)**2,x_char,p_char,E_char \n",
        "\n",
        "#Define an infinite well potential from particle mass and widt\n",
        "def infiniteWellPotential(x,m,width): \n",
        "  \n",
        "  #Define characteristic distance, momentum and energy for infinite well potential\n",
        "  x_char = width\n",
        "  p_char = hbar*pi/width\n",
        "  E_char = h**2/8/m/width**2\n",
        "\n",
        "  \n",
        "\n",
        "  V=np.ones_like(x)*1e100 #Assume that 10**100 potential energy is practicall infinite\n",
        "  \n",
        "  belowZero=np.where(np.abs(x)-width/2<0) #Set entries within width of x=0 to 0.0\n",
        "  V[belowZero]=0.0\n",
        "  return V,x_char,p_char,E_char\n",
        "\n",
        "#Class for storing info about potentials. \n",
        "class potentials:\n",
        "  def __init__(self,N,m,width):\n",
        "    self.N=N\n",
        "    self.m=m\n",
        "    self.width=width\n",
        "    \n",
        "    self.xrange=np.linspace(-5*width/2,5*width/2,N)\n",
        "    self.dx=self.xrange[1]-self.xrange[0]\n",
        "    self.xmax=np.max(self.xrange)\n",
        "    self.xmin=np.min(self.xrange)\n",
        "\n",
        "    self.prange=getMomentumFromPos(self.xrange)\n",
        "    self.dp=self.prange[1]-self.prange[0]\n",
        "    self.pmax=np.max(self.prange)\n",
        "    self.pmin=np.min(self.prange)\n",
        "\n",
        "\n",
        "    self.harmpot,self.x_harm,self.p_harm,self.E_harm=harmonicPotential(self.xrange,m,width)\n",
        "    self.omega_harm=self.E_harm/hbar\n",
        "    self.f_harm=self.omega_harm/2/pi\n",
        "  \n",
        "\n",
        "    self.IWpot,self.x_IW,self.p_IW,self.E_IW=infiniteWellPotential(self.xrange,m,width)\n",
        "    self.omega_IW=self.E_IW/hbar\n",
        "    self.f_IW=self.omega_IW/2/pi\n",
        "    \n",
        "    self.self_describe()\n",
        "\n",
        "  def self_describe(self):\n",
        "    print(\"### Configuration Parameters ###\")\n",
        "    print(f\" Number of points = {self.N}\")\n",
        "    print(f\" Start pos, xmin = {self.xmin*1e6}um\")\n",
        "    print(f\" Stop  pos, xmax = {self.xmax*1e6}um\")\n",
        "    print(f\" Pos resolution, dx = {self.dx*1e9}nm\")\n",
        "    print(\"  \")\n",
        "    print(f\" Start momentum= {self.pmin/mH}amu m/s\")\n",
        "    print(f\" Stop momentum = {self.pmax/mH}amu m/s\")\n",
        "    print(f\" Momentum resolution, dp = {self.dp/mH}amu m/s\")\n",
        "    print(\"   \")\n",
        "    print(f\" Specified width = {width*1e6}um and mass = {m/mH}amu\")\n",
        "    print(\"   \")\n",
        "    print(f\" Harmonic potential parameters:\")\n",
        "    print(f\" x_harm = {self.x_harm*1e6}um\")\n",
        "    print(f\" p_harm = {self.p_harm/mH} amu m/s\")\n",
        "    print(f\" E_harm = {self.E_harm*joule_to_ev*1e6}ueV\")\n",
        "    print(f\" f_harm = {self.f_harm}Hz\")\n",
        "    print(\"   \")\n",
        "    print(f\" Infinite square well parameters:\")\n",
        "    print(f\" x_IW = {self.x_IW*1e6}um\")\n",
        "    print(f\" p_IW = {self.p_IW/mH} amu m/s\")\n",
        "    print(f\" E_IW = {self.E_IW*joule_to_ev*1e6}ueV\")\n",
        "    print(f\" f_IW = {self.f_IW}Hz\")\n",
        "    print(\"   \")\n",
        "\n",
        "\n",
        "\n",
        "\n",
        "#Initialize potentials for a certain particle mass (87Rb):\n",
        "A  = 87    #Number of nucleons in atom to be simulated.\n",
        "m=mH*A     #Mass of atom to be simulated\n",
        "\n",
        "width=15e-6 #Width of trapping potentials in m\n",
        "\n",
        "pots=potentials(N,m,width)"
      ],
      "metadata": {
        "id": "Yb-Az_MNVz3x"
      },
      "execution_count": null,
      "outputs": []
    },
    {
      "cell_type": "code",
      "source": [],
      "metadata": {
        "id": "GUzubwEJ3mWx"
      },
      "execution_count": null,
      "outputs": []
    },
    {
      "cell_type": "code",
      "source": [
        "#Plot potentials\n",
        "plt.figure()\n",
        "plt.plot(pots.xrange,pots.harmpot*joule_to_ev*1e6)\n",
        "plt.plot(pots.xrange,pots.IWpot*joule_to_ev*1e6)\n",
        "plt.axis([np.min(pots.xrange),np.max(pots.xrange),0,np.max(pots.harmpot)*joule_to_ev*1e6])\n",
        "plt.show()\n",
        "\n",
        "plt.figure()\n",
        "plt.plot(pots.xrange)\n",
        "plt.plot(getPosFromMomentum( getMomentumFromPos(pots.xrange)))\n",
        "plt.show()\n",
        "\n",
        "\n",
        "plt.figure()\n",
        "plt.plot(pots.prange/mH)\n",
        "plt.plot(getMomentumFromPos( getPosFromMomentum(pots.prange))/mH)\n",
        "plt.show()\n",
        "\n",
        "\n",
        "\n"
      ],
      "metadata": {
        "id": "b82Ed894OeJr"
      },
      "execution_count": null,
      "outputs": []
    },
    {
      "cell_type": "code",
      "source": [],
      "metadata": {
        "id": "90qExJGd1tsm"
      },
      "execution_count": null,
      "outputs": []
    },
    {
      "cell_type": "code",
      "source": [
        "\n",
        "\n",
        "#Function returns pulse power or spectrum PSD\n",
        "def getProbDens(amplitude):\n",
        "    return np.abs(amplitude)**2  \n",
        "\n",
        "#Function gets the energy of a pulse pulse or spectrum by integrating the power\n",
        "def getProb(pos_or_freq,amplitude):\n",
        "    prob=np.trapz(getProbDens(amplitude),pos_or_freq)\n",
        "    \n",
        "    assert np.abs(prob-1)<1e-7, f\"ERROR: Integrated probability is {prob}, which is not equal to 1!!!\"\n",
        "    return prob"
      ],
      "metadata": {
        "id": "LVoqnTaFhhir"
      },
      "execution_count": null,
      "outputs": []
    },
    {
      "cell_type": "code",
      "source": [
        "def QFFT(x,psi_x):\n",
        "    posProb=getProb(x,psi_x) #Get pulse energy\n",
        "    p=getMomentumFromPos(x) \n",
        "    dx=x[1]-x[0]\n",
        "    \n",
        "    psi_p=fftshift(fft(psi_x))*dx #Take FFT and do shift\n",
        "    momentumProb=getProb(p, psi_p) #Get spectrum energy\n",
        "    \n",
        "    err=np.abs((momentumProb/posProb-1))\n",
        "    \n",
        "    assert( err<1e-7 ), f'ERROR = {err}: Total prob. changed when going from pos to momentum!!!' \n",
        "    \n",
        "    return psi_p"
      ],
      "metadata": {
        "id": "UWAO3-WflzG_"
      },
      "execution_count": null,
      "outputs": []
    },
    {
      "cell_type": "code",
      "source": [
        "def IW_states(x,w,n):\n",
        "  kn=n*pi/w\n",
        "  V=np.zeros_like(x) #Assume that 10**100 potential energy is practicall infinite\n",
        "  \n",
        "  not_zero=np.where(np.abs(x)-width/2<0) #Set entries within width of x=0 to 0.0\n",
        "  V[not_zero]=1.0\n",
        "  if n%2 == 0:\n",
        "    return np.sqrt(2/w)*(np.sin(kn*x) )*(1+0j)*V\n",
        "  else:\n",
        "    return np.sqrt(2/w)*(np.cos(kn*x) )*(1+0j)*V\n"
      ],
      "metadata": {
        "id": "QdSt0m-Fctj0"
      },
      "execution_count": null,
      "outputs": []
    },
    {
      "cell_type": "code",
      "source": [
        "wf_test1=IW_states(pots.xrange,pots.width,1)\n",
        "wf_test2=IW_states(pots.xrange,pots.width,2)\n",
        "wf_test3=IW_states(pots.xrange,pots.width,3)\n",
        "\n",
        "\n",
        "plt.figure()\n",
        "plt.plot(pots.xrange,pots.IWpot*joule_to_ev*1e6,'k-')\n",
        "plt.plot(pots.xrange,getProbDens(wf_test1),label=f\"Prob = {getProb(pots.xrange,wf_test1)}\")\n",
        "plt.plot(pots.xrange,getProbDens(wf_test2),label=f\"Prob = {getProb(pots.xrange,wf_test2)}\")\n",
        "plt.plot(pots.xrange,getProbDens(wf_test3),label=f\"Prob = {getProb(pots.xrange,wf_test3)}\")\n",
        "plt.legend(bbox_to_anchor=(1.05,0.3))\n",
        "plt.axis([np.min(pots.xrange)/4,np.max(pots.xrange)/4,0,np.max(getProbDens(wf_test1))])\n",
        "plt.show()\n",
        "\n",
        "plt.figure()\n",
        "#plt.plot(pots.prange,pots.IWpot*joule_to_ev*1e6,'k-')\n",
        "plt.plot(pots.prange,getProbDens( QFFT(pots.xrange, wf_test1) ),label=f\"Prob = {getProb(pots.prange,QFFT( wf_test1))}\")\n",
        "plt.plot(pots.prange,getProbDens( QFFT(pots.xrange, wf_test2) ),label=f\"Prob = {getProb(pots.prange,QFFT( wf_test2))}\")\n",
        "plt.plot(pots.prange,getProbDens( QFFT(pots.xrange, wf_test3) ),label=f\"Prob = {getProb(pots.prange,QFFT( wf_test3))}\")\n",
        "plt.legend(bbox_to_anchor=(1.05,0.3))\n",
        "plt.axis([np.min(pots.prange)/4,np.max(pots.prange)/4,0,np.max(getProbDens(wf_test1))])\n",
        "plt.show()\n"
      ],
      "metadata": {
        "id": "aFMWlJCFdRul"
      },
      "execution_count": null,
      "outputs": []
    },
    {
      "cell_type": "code",
      "source": [],
      "metadata": {
        "id": "KHEajv4Qdxy9"
      },
      "execution_count": null,
      "outputs": []
    }
  ]
}