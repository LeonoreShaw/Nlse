{
 "cells": [
  {
   "attachments": {},
   "cell_type": "markdown",
   "id": "4b8185cc",
   "metadata": {},
   "source": [
    "# Explanation of Modulation Instability\n",
    "\n",
    "The Nonlinear Schrodinger Equation is given by:\n",
    "\n",
    "$\\frac{\\partial A}{\\partial z}=-i \\frac{\\beta_2}{2} \\frac{\\partial^2 A}{\\partial T^2}+i\\gamma|A|^2A$.\n",
    "\n",
    "If $\\beta_2<0$, meaning that we have anormalous dispersion where blue light propagates faster than red light, and $\\gamma>0$, we can achieve \"solitons\"; optical pulses, which retain their shape as they propagate. \n",
    "\n",
    "But what happens if we add a tiny bit of noise? Will we still get nice, clean solitons? By adding noise, we essentially introduce additional light with a range of frequencies. These will modulate the refractive index of the glass, which in turn modulates the phase of the pulse sinusoidally, which transfers power away from the carrier frequency and into adjacent ones above and below. This is essentially the same effect as Four-Wave Mixing demonstrated here: \n",
    "\n",
    "https://youtu.be/gsa9hrCbnqI \n",
    " \n",
    "Crucially, the presence of anormalous dispersion means that particular frequency components will gain more power from the carrier than others. We say that they are \"phase matched\". This causes the output signal to contain spikes with a temporal spacing equal to the reciprocal of this frequency component. \n",
    "\n",
    "For an analytical derication, please see this excellent explanation by\n",
    "\n",
    "Marcus R.A. Newman:\n",
    "https://prefetch.eu/know/concept/modulational-instability/"
   ]
  },
  {
   "cell_type": "markdown",
   "id": "1cbcb2f7",
   "metadata": {},
   "source": [
    "# Import libraries"
   ]
  },
  {
   "cell_type": "code",
   "execution_count": 1,
   "id": "93be1e66",
   "metadata": {},
   "outputs": [],
   "source": [
    "import numpy as np\n",
    "import matplotlib.pyplot as plt"
   ]
  },
  {
   "cell_type": "markdown",
   "id": "dea34a12",
   "metadata": {},
   "source": [
    "## Import custom functions for running SSFM"
   ]
  },
  {
   "cell_type": "code",
   "execution_count": 2,
   "id": "140bed50",
   "metadata": {},
   "outputs": [],
   "source": [
    "from ssfm_functions import *\n"
   ]
  },
  {
   "cell_type": "markdown",
   "id": "88ac8687",
   "metadata": {},
   "source": [
    "## Initialize timebase"
   ]
  },
  {
   "cell_type": "code",
   "execution_count": 3,
   "id": "2895dab3",
   "metadata": {},
   "outputs": [
    {
     "name": "stdout",
     "output_type": "stream",
     "text": [
      "### Configuration Parameters ###\n",
      " Number of points = 8192\n",
      " Start time, tmin = -409.6ps\n",
      " Stop time, tmax = 409.6ps\n",
      " Time resolution, dt = 0.1ps\n",
      "  \n",
      " Start frequency= -4.999389648437775THz\n",
      " Stop frequency = 4.998169094324387THz\n",
      " Frequency resolution= 1220.5541133876952MHz\n",
      "   \n"
     ]
    }
   ],
   "source": [
    "N  = 2**13 #Number of points\n",
    "dt = 0.1e-12 #Time resolution [s] \n",
    "\n",
    "timeFreq_test=timeFreq_class(N,dt)"
   ]
  },
  {
   "attachments": {},
   "cell_type": "markdown",
   "id": "64a0edca",
   "metadata": {},
   "source": [
    "## Initialize fiber with anormalous dispersion ($\\beta_2<0$)"
   ]
  },
  {
   "cell_type": "code",
   "execution_count": 4,
   "id": "ad9b7dbc",
   "metadata": {
    "scrolled": false
   },
   "outputs": [],
   "source": [
    "\n",
    "\n",
    "#Define fiber parameters\n",
    "Length          = 132.5      #Fiber length in m\n",
    "\n",
    "gamma           = 400e-3     #Nonlinearity parameter in 1/W/m \n",
    "beta2           = -100e3    #Dispersion in fs^2/m (units typically used when referring to beta2) \n",
    "beta2          *= (1e-30)  #Convert fs^2 to s^2 so everything is in SI units\n",
    "alpha_dB_per_m  = 0.0e-3   #Power attenuation coeff in decibel per m. Usual value at 1550nm is 0.2 dB/km\n",
    "\n",
    "#Note:  beta2>0 is normal dispersion with red light pulling ahead, \n",
    "#       causing a negative leading chirp\n",
    "#       \n",
    "#       beta2<0 is anormalous dispersion with blue light pulling ahead, \n",
    "#       causing a positive leading chirp.\n",
    "\n",
    "\n",
    "#  Initialize class\n",
    "fiber=Fiber_class(Length, gamma, beta2, alpha_dB_per_m)"
   ]
  },
  {
   "attachments": {},
   "cell_type": "markdown",
   "id": "65c36bc2",
   "metadata": {},
   "source": [
    "## Initialize \"clean\" Gaussian pulse and noisy Gaussian pulse"
   ]
  },
  {
   "cell_type": "code",
   "execution_count": 8,
   "id": "9f934aea",
   "metadata": {},
   "outputs": [
    {
     "data": {
      "image/png": "[encoded data removed]",
      "text/plain": [
       "<Figure size 432x288 with 1 Axes>"
      ]
     },
     "metadata": {
      "needs_background": "light"
     },
     "output_type": "display_data"
    },
    {
     "data": {
      "image/png": "[encoded data removed]",
      "text/plain": [
       "<Figure size 432x288 with 1 Axes>"
      ]
     },
     "metadata": {
      "needs_background": "light"
     },
     "output_type": "display_data"
    }
   ],
   "source": [
    "#Initialize Gaussian pulse with no noise\n",
    "\n",
    "\n",
    "cleanAmplitude = 1                    #Amplitude in units of sqrt(W)\n",
    "cleanDuration  =100*timeFreq_test.time_step    #Pulse 1/e^2 duration [s]\n",
    "cleanOffset    = 0                             #Time offset\n",
    "cleanChirp = 0                                 #Chirp factor\n",
    "cleanCarrierFreq=0                             #Freq. offset\n",
    "cleanPulseType='gaussian'                      #'Gaussian', 'square', 'sech'\n",
    "cleanOrder = 1                                 #Order of Gaussian pulse\n",
    "cleanNoiseAmplitude = 0.0                      #Added ASE noise amplitude\n",
    "\n",
    "\n",
    "cleanInputSignal = input_signal_class(timeFreq_test, \n",
    "                                     cleanAmplitude ,\n",
    "                                     cleanDuration,\n",
    "                                     cleanOffset,\n",
    "                                     cleanChirp,\n",
    "                                     cleanCarrierFreq,\n",
    "                                     cleanPulseType,\n",
    "                                     cleanOrder,\n",
    "                                     cleanNoiseAmplitude)\n",
    "\n",
    "\n",
    "\n",
    "#Initialize Gaussian pulse with ASE noise\n",
    "\n",
    "\n",
    "testAmplitude = cleanAmplitude                   #Amplitude in units of sqrt(W)\n",
    "testDuration  =cleanDuration    #Pulse 1/e^2 duration [s]\n",
    "testOffset    = cleanOffset                             #Time offset\n",
    "testChirp = cleanChirp                                 #Chirp factor\n",
    "testCarrierFreq=cleanCarrierFreq                             #Freq. offset\n",
    "testPulseType=cleanPulseType                     #'Gaussian', 'square', 'sech'\n",
    "testOrder = cleanOrder                                 #Order of Gaussian pulse\n",
    "testNoiseAmplitude = 1e-3                     #Added ASE noise amplitude\n",
    "\n",
    "\n",
    "testInputSignal = input_signal_class(timeFreq_test, \n",
    "                                     testAmplitude ,\n",
    "                                     testDuration,\n",
    "                                     testOffset,\n",
    "                                     testChirp,\n",
    "                                     testCarrierFreq,\n",
    "                                     testPulseType,\n",
    "                                     testOrder,\n",
    "                                     testNoiseAmplitude)\n",
    "\n",
    "\n",
    "fig,ax=plt.subplots()\n",
    "ax.set_title(\"Clean\")\n",
    "ax.plot(cleanInputSignal.timeFreq.t*1e12,getPower(cleanInputSignal.amplitude),'C0',label='Clean')\n",
    "plt.axis([-2*testInputSignal.duration*1e12,2*testInputSignal.duration*1e12,0,1.05])\n",
    "plt.show()\n",
    "\n",
    "fig,ax=plt.subplots()\n",
    "ax.set_title(\"Noisy\")\n",
    "ax.plot(testInputSignal.timeFreq.t*1e12,getPower(testInputSignal.amplitude),'C0',)\n",
    "plt.axis([-2*testInputSignal.duration*1e12,2*testInputSignal.duration*1e12,0,1.05])\n",
    "plt.show()\n",
    "\n",
    "\n",
    "\n",
    "\n"
   ]
  },
  {
   "cell_type": "markdown",
   "id": "3f578bad",
   "metadata": {},
   "source": [
    "## Choose step configuration"
   ]
  },
  {
   "cell_type": "code",
   "execution_count": 9,
   "id": "d83f0eb7",
   "metadata": {},
   "outputs": [],
   "source": [
    "MI_stepConfig=(\"fixed\",2**10)\n"
   ]
  },
  {
   "attachments": {},
   "cell_type": "markdown",
   "id": "5c59f7f9",
   "metadata": {},
   "source": [
    "## Run SSFM to simulate MI"
   ]
  },
  {
   "cell_type": "code",
   "execution_count": 10,
   "id": "97bcbf94",
   "metadata": {},
   "outputs": [
    {
     "name": "stdout",
     "output_type": "stream",
     "text": [
      "testN=19.999749940516924\n",
      "Length_disp=1.0000000000000002km\n",
      "Length_NL=0.0025000625160432216km\n",
      "Length_wave_break = 0.05299994395105461 km\n",
      "Calculating zinfo\n",
      "Stepmode = ('fixed', 1024), stepSafetyFactor = 1.0\n",
      "Running SSFM with nsteps = 1024\n"
     ]
    },
    {
     "data": {
      "image/png": "[encoded data removed]",
      "text/plain": [
       "<Figure size 432x288 with 1 Axes>"
      ]
     },
     "metadata": {
      "needs_background": "light"
     },
     "output_type": "display_data"
    },
    {
     "data": {
      "image/png": "[encoded data removed]",
      "text/plain": [
       "<Figure size 432x288 with 1 Axes>"
      ]
     },
     "metadata": {
      "needs_background": "light"
     },
     "output_type": "display_data"
    },
    {
     "ename": "AssertionError",
     "evalue": "ERROR = 1.0758956725531732e-07: Energy changed when going from Pulse to Spectrum!!!",
     "output_type": "error",
     "traceback": [
      "\u001b[1;31m---------------------------------------------------------------------------\u001b[0m",
      "\u001b[1;31mAssertionError\u001b[0m                            Traceback (most recent call last)",
      "\u001b[1;32mc:\\Users\\okrarup\\OneDrive - Ciena Corporation\\Desktop\\SSFM folder\\NLSE-vector-solver\\ModulationInstability.ipynb Cell 15\u001b[0m in \u001b[0;36m<cell line: 4>\u001b[1;34m()\u001b[0m\n\u001b[0;32m      <a href='vscode-notebook-cell:/c%3A/Users/okrarup/OneDrive%20-%20Ciena%20Corporation/Desktop/SSFM%20folder/NLSE-vector-solver/ModulationInstability.ipynb#X20sZmlsZQ%3D%3D?line=0'>1</a>\u001b[0m \u001b[39m#https://prefetch.eu/know/concept/optical-wave-breaking/\u001b[39;00m\n\u001b[0;32m      <a href='vscode-notebook-cell:/c%3A/Users/okrarup/OneDrive%20-%20Ciena%20Corporation/Desktop/SSFM%20folder/NLSE-vector-solver/ModulationInstability.ipynb#X20sZmlsZQ%3D%3D?line=1'>2</a>\u001b[0m \n\u001b[0;32m      <a href='vscode-notebook-cell:/c%3A/Users/okrarup/OneDrive%20-%20Ciena%20Corporation/Desktop/SSFM%20folder/NLSE-vector-solver/ModulationInstability.ipynb#X20sZmlsZQ%3D%3D?line=2'>3</a>\u001b[0m \u001b[39m#Run SSFM\u001b[39;00m\n\u001b[1;32m----> <a href='vscode-notebook-cell:/c%3A/Users/okrarup/OneDrive%20-%20Ciena%20Corporation/Desktop/SSFM%20folder/NLSE-vector-solver/ModulationInstability.ipynb#X20sZmlsZQ%3D%3D?line=3'>4</a>\u001b[0m ssfm_result_clean \u001b[39m=\u001b[39m SSFM(fiber,cleanInputSignal,stepConfig\u001b[39m=\u001b[39;49mMI_stepConfig)\n",
      "File \u001b[1;32mc:\\Users\\okrarup\\OneDrive - Ciena Corporation\\Desktop\\SSFM folder\\NLSE-vector-solver\\ssfm_functions.py:350\u001b[0m, in \u001b[0;36mSSFM\u001b[1;34m(fiber, input_signal, stepConfig, stepSafetyFactor)\u001b[0m\n\u001b[0;32m    347\u001b[0m \u001b[39mfor\u001b[39;00m n, dz \u001b[39min\u001b[39;00m \u001b[39menumerate\u001b[39m(zinfo[\u001b[39m1\u001b[39m]):   \n\u001b[0;32m    348\u001b[0m     pulse\u001b[39m*\u001b[39m\u001b[39m=\u001b[39mnp\u001b[39m.\u001b[39mexp(nonlinearity\u001b[39m*\u001b[39mgetPower(pulse)\u001b[39m*\u001b[39mdz) \u001b[39m#Apply nonlinearity\u001b[39;00m\n\u001b[1;32m--> 350\u001b[0m     spectrum \u001b[39m=\u001b[39m getSpectrumFromPulse(input_signal\u001b[39m.\u001b[39;49mtimeFreq\u001b[39m.\u001b[39;49mt, pulse)\u001b[39m*\u001b[39m(disp_and_loss\u001b[39m*\u001b[39m\u001b[39m*\u001b[39mdz) \u001b[39m#Go to spectral domain and apply disp and loss\u001b[39;00m\n\u001b[0;32m    353\u001b[0m     pulse\u001b[39m=\u001b[39mgetPulseFromSpectrum(input_signal\u001b[39m.\u001b[39mtimeFreq\u001b[39m.\u001b[39mf, spectrum) \u001b[39m#Return to time domain \u001b[39;00m\n\u001b[0;32m    356\u001b[0m     \u001b[39m#Store results and repeat\u001b[39;00m\n",
      "File \u001b[1;32mc:\\Users\\okrarup\\OneDrive - Ciena Corporation\\Desktop\\SSFM folder\\NLSE-vector-solver\\ssfm_functions.py:126\u001b[0m, in \u001b[0;36mgetSpectrumFromPulse\u001b[1;34m(time, pulse_amplitude)\u001b[0m\n\u001b[0;32m    122\u001b[0m spectrumEnergy\u001b[39m=\u001b[39mgetEnergy(f, spectrum_amplitude) \u001b[39m#Get spectrum energy\u001b[39;00m\n\u001b[0;32m    124\u001b[0m err\u001b[39m=\u001b[39mnp\u001b[39m.\u001b[39mabs((pulseEnergy\u001b[39m/\u001b[39mspectrumEnergy\u001b[39m-\u001b[39m\u001b[39m1\u001b[39m))\n\u001b[1;32m--> 126\u001b[0m \u001b[39massert\u001b[39;00m( err\u001b[39m<\u001b[39m\u001b[39m1e-7\u001b[39m ), \u001b[39mf\u001b[39m\u001b[39m'\u001b[39m\u001b[39mERROR = \u001b[39m\u001b[39m{\u001b[39;00merr\u001b[39m}\u001b[39;00m\u001b[39m: Energy changed when going from Pulse to Spectrum!!!\u001b[39m\u001b[39m'\u001b[39m \n\u001b[0;32m    128\u001b[0m \u001b[39mreturn\u001b[39;00m spectrum_amplitude\n",
      "\u001b[1;31mAssertionError\u001b[0m: ERROR = 1.0758956725531732e-07: Energy changed when going from Pulse to Spectrum!!!"
     ]
    }
   ],
   "source": [
    "#https://prefetch.eu/know/concept/optical-wave-breaking/\n",
    "\n",
    "#Run SSFM\n",
    "ssfm_result_clean = SSFM(fiber,cleanInputSignal,stepConfig=MI_stepConfig)\n",
    "#ssfm_result_test = SSFM(fiber,testInputSignal,stepConfig=MI_stepConfig)\n"
   ]
  },
  {
   "cell_type": "markdown",
   "id": "0063d570",
   "metadata": {},
   "source": [
    "## Plot results"
   ]
  },
  {
   "cell_type": "code",
   "execution_count": null,
   "id": "9478ee4a",
   "metadata": {},
   "outputs": [],
   "source": [
    "#Plot clean pulses\n",
    "nrange_pulse=400\n",
    "cutoff_pulse=-30\n",
    "plotEverythingAboutPulses(ssfm_result_clean,nrange_pulse,cutoff_pulse,chirpPlotRange=(-600,600))\n",
    "\n",
    "\n",
    "#Plot clean spectra\n",
    "nrange_spectrum=200\n",
    "cutoff_spectrum=-60    \n",
    "plotEverythingAboutSpectra(ssfm_result_clean,nrange_spectrum,cutoff_spectrum)"
   ]
  },
  {
   "cell_type": "code",
   "execution_count": null,
   "id": "ece2eb33",
   "metadata": {},
   "outputs": [],
   "source": [
    "#Plot clean pulses\n",
    "\n",
    "plotEverythingAboutPulses(ssfm_result_test,nrange_pulse,cutoff_pulse,chirpPlotRange=(-600,600))\n",
    "\n",
    "\n",
    "#Plot clean spectra\n",
    "\n",
    "plotEverythingAboutSpectra(ssfm_result_test,nrange_spectrum,cutoff_spectrum)"
   ]
  },
  {
   "cell_type": "code",
   "execution_count": null,
   "id": "8a4b7981",
   "metadata": {},
   "outputs": [],
   "source": [
    "from matplotlib.animation import FuncAnimation, PillowWriter\n",
    "from matplotlib.legend import LineCollection\n",
    "from matplotlib.colors import ListedColormap, LinearSegmentedColormap\n",
    "\n",
    "points = np.array( [ssfm_result_test.timeFreq.t*1e12 ,  getPower(ssfm_result_test.pulseMatrix[ssfm_result_test.n_z_steps,:])   ]  ).T.reshape(-1,1,2)\n",
    "segments = np.concatenate([points[0:-1],points[1:]],axis=1)\n",
    "\n",
    "#Make custom colormap\n",
    "colors = [\"red\" ,\"gray\", \"blue\"]\n",
    "cmap1 = LinearSegmentedColormap.from_list(\"mycmap\", colors)\n",
    "\n",
    "#Initialize color normalization function\n",
    "norm = plt.Normalize(-600,600)\n",
    "\n",
    "#Initialize line collection to be plotted\n",
    "lc=LineCollection(segments,cmap=cmap1,norm=norm)\n",
    "lc.set_array( getChirp(ssfm_result_test.timeFreq.t,ssfm_result_test.pulseMatrix[ssfm_result_test.n_z_steps,:])/1e9 )\n",
    "\n",
    "#Initialize figure\n",
    "fig, ax = plt.subplots(dpi=150)\n",
    "line = ax.add_collection(lc)\n",
    "fig.colorbar(line,ax=ax, label = 'Chirp [GHz]')\n",
    "\n",
    "\n",
    "#Function for specifying axes\n",
    "def init():\n",
    "  \n",
    "\n",
    "  ax.set_xlim([-testInputSignal.duration*3.5*1e12,testInputSignal.duration*3.5*1e12])\n",
    "  ax.set_ylim([0,1.05*testInputSignal.Pmax])\n",
    "  \n",
    "  ax.set_xlabel('Time [ps]')\n",
    "  ax.set_ylabel('Power [W]')\n",
    "#Function for updating the plot in the .gif\n",
    "def update(i):\n",
    "  ax.clear() #Clear figure\n",
    "  init()     #Reset axes\n",
    "  ax.set_title(f'Optical Wave breaking, z={np.round(ssfm_result_test.zvals[i],1)}m ')\n",
    "  #Make collection of points from pulse power\n",
    "  points = np.array( [ssfm_result_test.timeFreq.t*1e12 ,  getPower(ssfm_result_test.pulseMatrix[i,:])   ]  ).T.reshape(-1,1,2)\n",
    "  \n",
    "  #Make collection of lines from points\n",
    "  segments = np.concatenate([points[0:-1],points[1:]],axis=1)\n",
    "  lc=LineCollection(segments,cmap=cmap1,norm=norm)\n",
    "\n",
    "  #Activate norm function based on local chirp\n",
    "  lc.set_array( getChirp(ssfm_result_test.timeFreq.t,ssfm_result_test.pulseMatrix[i,:])/1e9 )\n",
    "  \n",
    "  #Plot line\n",
    "  line = ax.add_collection(lc)\n",
    "\n",
    "\n",
    "\n",
    "#Make animation\n",
    "ani = FuncAnimation(fig,update,range(ssfm_result_test.n_z_locs),init_func=init)\n",
    "plt.show()\n",
    "\n",
    "#Save animation as .gif\n",
    "framerate=30 # Framerate of 30 will look smooth\n",
    "writer = PillowWriter(fps=framerate)\n",
    "ani.save(f'OWB_={framerate}.gif',writer=writer)"
   ]
  },
  {
   "cell_type": "code",
   "execution_count": null,
   "id": "b518597b",
   "metadata": {},
   "outputs": [],
   "source": []
  }
 ],
 "metadata": {
  "kernelspec": {
   "display_name": "base",
   "language": "python",
   "name": "python3"
  },
  "language_info": {
   "codemirror_mode": {
    "name": "ipython",
    "version": 3
   },
   "file_extension": ".py",
   "mimetype": "text/x-python",
   "name": "python",
   "nbconvert_exporter": "python",
   "pygments_lexer": "ipython3",
   "version": "3.9.12"
  },
  "vscode": {
   "interpreter": {
    "hash": "4690667cd4fa2fb36dc9c944c1bea44dd5500cf4df811091e455ceead53c9bd8"
   }
  }
 },
 "nbformat": 4,
 "nbformat_minor": 5
}
