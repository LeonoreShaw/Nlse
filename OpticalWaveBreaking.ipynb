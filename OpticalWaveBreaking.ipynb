{
 "cells": [
  {
   "cell_type": "markdown",
   "id": "1cbcb2f7",
   "metadata": {},
   "source": [
    "# Import libraries"
   ]
  },
  {
   "cell_type": "code",
   "execution_count": null,
   "id": "93be1e66",
   "metadata": {},
   "outputs": [],
   "source": [
    "import numpy as np\n",
    "import matplotlib.pyplot as plt"
   ]
  },
  {
   "cell_type": "markdown",
   "id": "dea34a12",
   "metadata": {},
   "source": [
    "## Import custom functions for running SSFM"
   ]
  },
  {
   "cell_type": "code",
   "execution_count": null,
   "id": "140bed50",
   "metadata": {},
   "outputs": [],
   "source": [
    "from ssfm_functions import *\n"
   ]
  },
  {
   "cell_type": "markdown",
   "id": "88ac8687",
   "metadata": {},
   "source": [
    "## Initialize timebase"
   ]
  },
  {
   "cell_type": "code",
   "execution_count": null,
   "id": "2895dab3",
   "metadata": {},
   "outputs": [],
   "source": [
    "N  = 2**12 #Number of points\n",
    "dt = 0.1e-12 #Time resolution [s] \n",
    "\n",
    "timeFreq_test=timeFreq_class(N,dt)"
   ]
  },
  {
   "cell_type": "markdown",
   "id": "64a0edca",
   "metadata": {},
   "source": [
    "## Initialize fiber with normal dispersion"
   ]
  },
  {
   "cell_type": "code",
   "execution_count": null,
   "id": "ad9b7dbc",
   "metadata": {
    "scrolled": false
   },
   "outputs": [],
   "source": [
    "\n",
    "\n",
    "#Define fiberulation parameters\n",
    "Length          = 53*1.5      #Fiber length in m\n",
    "\n",
    "gamma           = 400e-3     #Nonlinearity parameter in 1/W/m \n",
    "beta2           = 100e3    #Dispersion in fs^2/m (units typically used when referring to beta2) \n",
    "beta2          *= (1e-30)  #Convert fs^2 to s^2 so everything is in SI units\n",
    "alpha_dB_per_m  = 0.0e-3   #Power attenuation coeff in decibel per m. Usual value at 1550nm is 0.2 dB/km\n",
    "\n",
    "#Note:  beta2>0 is normal dispersion with red light pulling ahead, \n",
    "#       causing a negative leading chirp\n",
    "#       \n",
    "#       beta2<0 is anormalous dispersion with blue light pulling ahead, \n",
    "#       causing a positive leading chirp.\n",
    "\n",
    "\n",
    "#  Initialize class\n",
    "fiber=Fiber_class(Length, gamma, beta2, alpha_dB_per_m)\n",
    "\n",
    "\n"
   ]
  },
  {
   "cell_type": "markdown",
   "id": "65c36bc2",
   "metadata": {},
   "source": [
    "## Initialize Gaussian pulse"
   ]
  },
  {
   "cell_type": "code",
   "execution_count": null,
   "id": "9f934aea",
   "metadata": {},
   "outputs": [],
   "source": [
    "#Initialize Gaussian pulse\n",
    "\n",
    "\n",
    "testAmplitude = np.sqrt(1)                    #Amplitude in units of sqrt(W)\n",
    "testDuration  =100*timeFreq_test.time_step    #Pulse 1/e^2 duration [s]\n",
    "testOffset    = 0                             #Time offset\n",
    "testChirp = 0                                 #Chirp factor\n",
    "testCarrierFreq=0                             #Freq. offset\n",
    "testPulseType='gaussian'                      #'Gaussian', 'square', 'sech'\n",
    "testOrder = 1                                 #Order of Gaussian pulse\n",
    "testNoiseAmplitude = 0.0                      #Added ASE noise amplitude\n",
    "\n",
    "\n",
    "testInputSignal = input_signal_class(timeFreq_test, \n",
    "                                     testAmplitude ,\n",
    "                                     testDuration,\n",
    "                                     testOffset,\n",
    "                                     testChirp,\n",
    "                                     testCarrierFreq,\n",
    "                                     testPulseType,\n",
    "                                     testOrder,\n",
    "                                     testNoiseAmplitude)"
   ]
  },
  {
   "cell_type": "markdown",
   "id": "3f578bad",
   "metadata": {},
   "source": [
    "## Choose step configuration"
   ]
  },
  {
   "cell_type": "code",
   "execution_count": null,
   "id": "d83f0eb7",
   "metadata": {},
   "outputs": [],
   "source": [
    "testStepConfig=(\"variable\",\"cautious\")\n",
    "testSafetyFactor = 40\n",
    "\n"
   ]
  },
  {
   "cell_type": "markdown",
   "id": "5c59f7f9",
   "metadata": {},
   "source": [
    "## Run SSFM to simulate OWB"
   ]
  },
  {
   "cell_type": "code",
   "execution_count": null,
   "id": "97bcbf94",
   "metadata": {},
   "outputs": [],
   "source": [
    "#https://prefetch.eu/know/concept/optical-wave-breaking/\n",
    "\n",
    "#Run SSFM\n",
    "ssfm_result_test = SSFM(fiber,testInputSignal,stepConfig=testStepConfig,stepSafetyFactor=testSafetyFactor)\n",
    "\n"
   ]
  },
  {
   "cell_type": "markdown",
   "id": "0063d570",
   "metadata": {},
   "source": [
    "## Plot results"
   ]
  },
  {
   "cell_type": "code",
   "execution_count": null,
   "id": "9478ee4a",
   "metadata": {},
   "outputs": [],
   "source": [
    "#Plot pulses\n",
    "nrange_test=400\n",
    "cutoff_test=-30\n",
    "plotEverythingAboutPulses(ssfm_result_test,nrange_test,cutoff_test,chirpPlotRange=(-600,600))\n",
    "\n",
    "\n",
    "#Plot spectra\n",
    "nrange_test=200\n",
    "cutoff_test=-60    \n",
    "plotEverythingAboutSpectra(ssfm_result_test,nrange_test,cutoff_test)"
   ]
  },
  {
   "cell_type": "code",
   "execution_count": null,
   "id": "8a4b7981",
   "metadata": {},
   "outputs": [],
   "source": []
  }
 ],
 "metadata": {
  "kernelspec": {
   "display_name": "Python 3 (ipykernel)",
   "language": "python",
   "name": "python3"
  },
  "language_info": {
   "codemirror_mode": {
    "name": "ipython",
    "version": 3
   },
   "file_extension": ".py",
   "mimetype": "text/x-python",
   "name": "python",
   "nbconvert_exporter": "python",
   "pygments_lexer": "ipython3",
   "version": "3.9.12"
  }
 },
 "nbformat": 4,
 "nbformat_minor": 5
}
